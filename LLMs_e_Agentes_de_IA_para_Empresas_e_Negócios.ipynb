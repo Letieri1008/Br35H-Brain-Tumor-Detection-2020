{
  "nbformat": 4,
  "nbformat_minor": 0,
  "metadata": {
    "colab": {
      "provenance": [],
      "authorship_tag": "ABX9TyMUtRxmul5b1lA76ROTsm64",
      "include_colab_link": true
    },
    "kernelspec": {
      "name": "python3",
      "display_name": "Python 3"
    },
    "language_info": {
      "name": "python"
    },
    "widgets": {
      "application/vnd.jupyter.widget-state+json": {
        "7dd93e2cd3d1454e96bf520f1e08bca6": {
          "model_module": "@jupyter-widgets/controls",
          "model_name": "TextModel",
          "model_module_version": "1.5.0",
          "state": {
            "_dom_classes": [],
            "_model_module": "@jupyter-widgets/controls",
            "_model_module_version": "1.5.0",
            "_model_name": "TextModel",
            "_view_count": null,
            "_view_module": "@jupyter-widgets/controls",
            "_view_module_version": "1.5.0",
            "_view_name": "TextView",
            "continuous_update": true,
            "description": "",
            "description_tooltip": null,
            "disabled": false,
            "layout": "IPY_MODEL_8660111168a64b2c8699b0824048f06a",
            "placeholder": "Ex: saúde mental, alimentação saudável, prevenção , etc. ",
            "style": "IPY_MODEL_d98b7bea686d4f1dadaee629511b3344",
            "value": ""
          }
        },
        "8660111168a64b2c8699b0824048f06a": {
          "model_module": "@jupyter-widgets/base",
          "model_name": "LayoutModel",
          "model_module_version": "1.2.0",
          "state": {
            "_model_module": "@jupyter-widgets/base",
            "_model_module_version": "1.2.0",
            "_model_name": "LayoutModel",
            "_view_count": null,
            "_view_module": "@jupyter-widgets/base",
            "_view_module_version": "1.2.0",
            "_view_name": "LayoutView",
            "align_content": null,
            "align_items": null,
            "align_self": null,
            "border": null,
            "bottom": null,
            "display": null,
            "flex": null,
            "flex_flow": null,
            "grid_area": null,
            "grid_auto_columns": null,
            "grid_auto_flow": null,
            "grid_auto_rows": null,
            "grid_column": null,
            "grid_gap": null,
            "grid_row": null,
            "grid_template_areas": null,
            "grid_template_columns": null,
            "grid_template_rows": null,
            "height": null,
            "justify_content": null,
            "justify_items": null,
            "left": null,
            "margin": null,
            "max_height": null,
            "max_width": null,
            "min_height": null,
            "min_width": null,
            "object_fit": null,
            "object_position": null,
            "order": null,
            "overflow": null,
            "overflow_x": null,
            "overflow_y": null,
            "padding": null,
            "right": null,
            "top": null,
            "visibility": null,
            "width": "500px"
          }
        },
        "d98b7bea686d4f1dadaee629511b3344": {
          "model_module": "@jupyter-widgets/controls",
          "model_name": "DescriptionStyleModel",
          "model_module_version": "1.5.0",
          "state": {
            "_model_module": "@jupyter-widgets/controls",
            "_model_module_version": "1.5.0",
            "_model_name": "DescriptionStyleModel",
            "_view_count": null,
            "_view_module": "@jupyter-widgets/base",
            "_view_module_version": "1.2.0",
            "_view_name": "StyleView",
            "description_width": ""
          }
        },
        "107954957a694de196dfd560ef9cfba4": {
          "model_module": "@jupyter-widgets/controls",
          "model_name": "TextModel",
          "model_module_version": "1.5.0",
          "state": {
            "_dom_classes": [],
            "_model_module": "@jupyter-widgets/controls",
            "_model_module_version": "1.5.0",
            "_model_name": "TextModel",
            "_view_count": null,
            "_view_module": "@jupyter-widgets/controls",
            "_view_module_version": "1.5.0",
            "_view_name": "TextView",
            "continuous_update": true,
            "description": "Tema: ",
            "description_tooltip": null,
            "disabled": false,
            "layout": "IPY_MODEL_91f7754319d342a4b8b41217d96fc910",
            "placeholder": "Ex: saúde mental, alimentação saudável, prevenção, etc ",
            "style": "IPY_MODEL_61d48d83cbe34867ae499fbc5a462284",
            "value": ""
          }
        },
        "91f7754319d342a4b8b41217d96fc910": {
          "model_module": "@jupyter-widgets/base",
          "model_name": "LayoutModel",
          "model_module_version": "1.2.0",
          "state": {
            "_model_module": "@jupyter-widgets/base",
            "_model_module_version": "1.2.0",
            "_model_name": "LayoutModel",
            "_view_count": null,
            "_view_module": "@jupyter-widgets/base",
            "_view_module_version": "1.2.0",
            "_view_name": "LayoutView",
            "align_content": null,
            "align_items": null,
            "align_self": null,
            "border": null,
            "bottom": null,
            "display": null,
            "flex": null,
            "flex_flow": null,
            "grid_area": null,
            "grid_auto_columns": null,
            "grid_auto_flow": null,
            "grid_auto_rows": null,
            "grid_column": null,
            "grid_gap": null,
            "grid_row": null,
            "grid_template_areas": null,
            "grid_template_columns": null,
            "grid_template_rows": null,
            "height": null,
            "justify_content": null,
            "justify_items": null,
            "left": null,
            "margin": null,
            "max_height": null,
            "max_width": null,
            "min_height": null,
            "min_width": null,
            "object_fit": null,
            "object_position": null,
            "order": null,
            "overflow": null,
            "overflow_x": null,
            "overflow_y": null,
            "padding": null,
            "right": null,
            "top": null,
            "visibility": null,
            "width": "500px"
          }
        },
        "61d48d83cbe34867ae499fbc5a462284": {
          "model_module": "@jupyter-widgets/controls",
          "model_name": "DescriptionStyleModel",
          "model_module_version": "1.5.0",
          "state": {
            "_model_module": "@jupyter-widgets/controls",
            "_model_module_version": "1.5.0",
            "_model_name": "DescriptionStyleModel",
            "_view_count": null,
            "_view_module": "@jupyter-widgets/base",
            "_view_module_version": "1.2.0",
            "_view_name": "StyleView",
            "description_width": ""
          }
        },
        "9839b881e6db4aecaae9d2d6a1cedba7": {
          "model_module": "@jupyter-widgets/controls",
          "model_name": "DropdownModel",
          "model_module_version": "1.5.0",
          "state": {
            "_dom_classes": [],
            "_model_module": "@jupyter-widgets/controls",
            "_model_module_version": "1.5.0",
            "_model_name": "DropdownModel",
            "_options_labels": [
              "Curto",
              "Medio",
              "Longo"
            ],
            "_view_count": null,
            "_view_module": "@jupyter-widgets/controls",
            "_view_module_version": "1.5.0",
            "_view_name": "DropdownView",
            "description": "Tamanho: ",
            "description_tooltip": null,
            "disabled": false,
            "index": 0,
            "layout": "IPY_MODEL_a338e2bf15b4498ab172bbeec730d85d",
            "style": "IPY_MODEL_df3669e7f09445d993852c70091383a6"
          }
        },
        "a338e2bf15b4498ab172bbeec730d85d": {
          "model_module": "@jupyter-widgets/base",
          "model_name": "LayoutModel",
          "model_module_version": "1.2.0",
          "state": {
            "_model_module": "@jupyter-widgets/base",
            "_model_module_version": "1.2.0",
            "_model_name": "LayoutModel",
            "_view_count": null,
            "_view_module": "@jupyter-widgets/base",
            "_view_module_version": "1.2.0",
            "_view_name": "LayoutView",
            "align_content": null,
            "align_items": null,
            "align_self": null,
            "border": null,
            "bottom": null,
            "display": null,
            "flex": null,
            "flex_flow": null,
            "grid_area": null,
            "grid_auto_columns": null,
            "grid_auto_flow": null,
            "grid_auto_rows": null,
            "grid_column": null,
            "grid_gap": null,
            "grid_row": null,
            "grid_template_areas": null,
            "grid_template_columns": null,
            "grid_template_rows": null,
            "height": null,
            "justify_content": null,
            "justify_items": null,
            "left": null,
            "margin": null,
            "max_height": null,
            "max_width": null,
            "min_height": null,
            "min_width": null,
            "object_fit": null,
            "object_position": null,
            "order": null,
            "overflow": null,
            "overflow_x": null,
            "overflow_y": null,
            "padding": null,
            "right": null,
            "top": null,
            "visibility": null,
            "width": "250px"
          }
        },
        "df3669e7f09445d993852c70091383a6": {
          "model_module": "@jupyter-widgets/controls",
          "model_name": "DescriptionStyleModel",
          "model_module_version": "1.5.0",
          "state": {
            "_model_module": "@jupyter-widgets/controls",
            "_model_module_version": "1.5.0",
            "_model_name": "DescriptionStyleModel",
            "_view_count": null,
            "_view_module": "@jupyter-widgets/base",
            "_view_module_version": "1.2.0",
            "_view_name": "StyleView",
            "description_width": ""
          }
        },
        "2ba54f862d1646a585c8b9a28f10ec90": {
          "model_module": "@jupyter-widgets/controls",
          "model_name": "DropdownModel",
          "model_module_version": "1.5.0",
          "state": {
            "_dom_classes": [],
            "_model_module": "@jupyter-widgets/controls",
            "_model_module_version": "1.5.0",
            "_model_name": "DropdownModel",
            "_options_labels": [
              "Normal",
              "Informativo",
              "Inspirador",
              "Urgente",
              "Informal"
            ],
            "_view_count": null,
            "_view_module": "@jupyter-widgets/controls",
            "_view_module_version": "1.5.0",
            "_view_name": "DropdownView",
            "description": "Tom:",
            "description_tooltip": null,
            "disabled": false,
            "index": 0,
            "layout": "IPY_MODEL_e0b9a3eb34e34a8393bce170bb261126",
            "style": "IPY_MODEL_9768b25bb52843b3a1601ea889e0b5ac"
          }
        },
        "e0b9a3eb34e34a8393bce170bb261126": {
          "model_module": "@jupyter-widgets/base",
          "model_name": "LayoutModel",
          "model_module_version": "1.2.0",
          "state": {
            "_model_module": "@jupyter-widgets/base",
            "_model_module_version": "1.2.0",
            "_model_name": "LayoutModel",
            "_view_count": null,
            "_view_module": "@jupyter-widgets/base",
            "_view_module_version": "1.2.0",
            "_view_name": "LayoutView",
            "align_content": null,
            "align_items": null,
            "align_self": null,
            "border": null,
            "bottom": null,
            "display": null,
            "flex": null,
            "flex_flow": null,
            "grid_area": null,
            "grid_auto_columns": null,
            "grid_auto_flow": null,
            "grid_auto_rows": null,
            "grid_column": null,
            "grid_gap": null,
            "grid_row": null,
            "grid_template_areas": null,
            "grid_template_columns": null,
            "grid_template_rows": null,
            "height": null,
            "justify_content": null,
            "justify_items": null,
            "left": null,
            "margin": null,
            "max_height": null,
            "max_width": null,
            "min_height": null,
            "min_width": null,
            "object_fit": null,
            "object_position": null,
            "order": null,
            "overflow": null,
            "overflow_x": null,
            "overflow_y": null,
            "padding": null,
            "right": null,
            "top": null,
            "visibility": null,
            "width": "250px"
          }
        },
        "9768b25bb52843b3a1601ea889e0b5ac": {
          "model_module": "@jupyter-widgets/controls",
          "model_name": "DescriptionStyleModel",
          "model_module_version": "1.5.0",
          "state": {
            "_model_module": "@jupyter-widgets/controls",
            "_model_module_version": "1.5.0",
            "_model_name": "DescriptionStyleModel",
            "_view_count": null,
            "_view_module": "@jupyter-widgets/base",
            "_view_module_version": "1.2.0",
            "_view_name": "StyleView",
            "description_width": ""
          }
        },
        "f22df512408f438da6f29875fa72231e": {
          "model_module": "@jupyter-widgets/controls",
          "model_name": "DropdownModel",
          "model_module_version": "1.5.0",
          "state": {
            "_dom_classes": [],
            "_model_module": "@jupyter-widgets/controls",
            "_model_module_version": "1.5.0",
            "_model_name": "DropdownModel",
            "_options_labels": [
              "Geral",
              "Jovens adultos",
              "Famílias",
              "Idosos",
              "Adolescentes"
            ],
            "_view_count": null,
            "_view_module": "@jupyter-widgets/controls",
            "_view_module_version": "1.5.0",
            "_view_name": "DropdownView",
            "description": "Público-alvo: ",
            "description_tooltip": null,
            "disabled": false,
            "index": 0,
            "layout": "IPY_MODEL_e551f9e3cbf2410bb46e3d0db42ef91c",
            "style": "IPY_MODEL_afc6b500651a4aaa8a0c09ae803b4427"
          }
        },
        "e551f9e3cbf2410bb46e3d0db42ef91c": {
          "model_module": "@jupyter-widgets/base",
          "model_name": "LayoutModel",
          "model_module_version": "1.2.0",
          "state": {
            "_model_module": "@jupyter-widgets/base",
            "_model_module_version": "1.2.0",
            "_model_name": "LayoutModel",
            "_view_count": null,
            "_view_module": "@jupyter-widgets/base",
            "_view_module_version": "1.2.0",
            "_view_name": "LayoutView",
            "align_content": null,
            "align_items": null,
            "align_self": null,
            "border": null,
            "bottom": null,
            "display": null,
            "flex": null,
            "flex_flow": null,
            "grid_area": null,
            "grid_auto_columns": null,
            "grid_auto_flow": null,
            "grid_auto_rows": null,
            "grid_column": null,
            "grid_gap": null,
            "grid_row": null,
            "grid_template_areas": null,
            "grid_template_columns": null,
            "grid_template_rows": null,
            "height": null,
            "justify_content": null,
            "justify_items": null,
            "left": null,
            "margin": null,
            "max_height": null,
            "max_width": null,
            "min_height": null,
            "min_width": null,
            "object_fit": null,
            "object_position": null,
            "order": null,
            "overflow": null,
            "overflow_x": null,
            "overflow_y": null,
            "padding": null,
            "right": null,
            "top": null,
            "visibility": null,
            "width": "250px"
          }
        },
        "afc6b500651a4aaa8a0c09ae803b4427": {
          "model_module": "@jupyter-widgets/controls",
          "model_name": "DescriptionStyleModel",
          "model_module_version": "1.5.0",
          "state": {
            "_model_module": "@jupyter-widgets/controls",
            "_model_module_version": "1.5.0",
            "_model_name": "DescriptionStyleModel",
            "_view_count": null,
            "_view_module": "@jupyter-widgets/base",
            "_view_module_version": "1.2.0",
            "_view_name": "StyleView",
            "description_width": ""
          }
        },
        "397aad16bded48a7b4d6f60454f6651f": {
          "model_module": "@jupyter-widgets/controls",
          "model_name": "CheckboxModel",
          "model_module_version": "1.5.0",
          "state": {
            "_dom_classes": [],
            "_model_module": "@jupyter-widgets/controls",
            "_model_module_version": "1.5.0",
            "_model_name": "CheckboxModel",
            "_view_count": null,
            "_view_module": "@jupyter-widgets/controls",
            "_view_module_version": "1.5.0",
            "_view_name": "CheckboxView",
            "description": "Incluir CTA",
            "description_tooltip": null,
            "disabled": false,
            "indent": true,
            "layout": "IPY_MODEL_d4503ad73d7a4dd494e4dbe5723eff4a",
            "style": "IPY_MODEL_52f5f5ea83914277888b0b2adbc57183",
            "value": false
          }
        },
        "d4503ad73d7a4dd494e4dbe5723eff4a": {
          "model_module": "@jupyter-widgets/base",
          "model_name": "LayoutModel",
          "model_module_version": "1.2.0",
          "state": {
            "_model_module": "@jupyter-widgets/base",
            "_model_module_version": "1.2.0",
            "_model_name": "LayoutModel",
            "_view_count": null,
            "_view_module": "@jupyter-widgets/base",
            "_view_module_version": "1.2.0",
            "_view_name": "LayoutView",
            "align_content": null,
            "align_items": null,
            "align_self": null,
            "border": null,
            "bottom": null,
            "display": null,
            "flex": null,
            "flex_flow": null,
            "grid_area": null,
            "grid_auto_columns": null,
            "grid_auto_flow": null,
            "grid_auto_rows": null,
            "grid_column": null,
            "grid_gap": null,
            "grid_row": null,
            "grid_template_areas": null,
            "grid_template_columns": null,
            "grid_template_rows": null,
            "height": null,
            "justify_content": null,
            "justify_items": null,
            "left": null,
            "margin": null,
            "max_height": null,
            "max_width": null,
            "min_height": null,
            "min_width": null,
            "object_fit": null,
            "object_position": null,
            "order": null,
            "overflow": null,
            "overflow_x": null,
            "overflow_y": null,
            "padding": null,
            "right": null,
            "top": null,
            "visibility": null,
            "width": null
          }
        },
        "52f5f5ea83914277888b0b2adbc57183": {
          "model_module": "@jupyter-widgets/controls",
          "model_name": "DescriptionStyleModel",
          "model_module_version": "1.5.0",
          "state": {
            "_model_module": "@jupyter-widgets/controls",
            "_model_module_version": "1.5.0",
            "_model_name": "DescriptionStyleModel",
            "_view_count": null,
            "_view_module": "@jupyter-widgets/base",
            "_view_module_version": "1.2.0",
            "_view_name": "StyleView",
            "description_width": ""
          }
        },
        "01a7b59b485c46ef8b2d819ea2429836": {
          "model_module": "@jupyter-widgets/controls",
          "model_name": "CheckboxModel",
          "model_module_version": "1.5.0",
          "state": {
            "_dom_classes": [],
            "_model_module": "@jupyter-widgets/controls",
            "_model_module_version": "1.5.0",
            "_model_name": "CheckboxModel",
            "_view_count": null,
            "_view_module": "@jupyter-widgets/controls",
            "_view_module_version": "1.5.0",
            "_view_name": "CheckboxView",
            "description": "Retonar Hashtag",
            "description_tooltip": null,
            "disabled": false,
            "indent": true,
            "layout": "IPY_MODEL_53ce4cf63c814002978a21af9995ca20",
            "style": "IPY_MODEL_c5bb913791224f9caca1a035e36e5141",
            "value": false
          }
        },
        "53ce4cf63c814002978a21af9995ca20": {
          "model_module": "@jupyter-widgets/base",
          "model_name": "LayoutModel",
          "model_module_version": "1.2.0",
          "state": {
            "_model_module": "@jupyter-widgets/base",
            "_model_module_version": "1.2.0",
            "_model_name": "LayoutModel",
            "_view_count": null,
            "_view_module": "@jupyter-widgets/base",
            "_view_module_version": "1.2.0",
            "_view_name": "LayoutView",
            "align_content": null,
            "align_items": null,
            "align_self": null,
            "border": null,
            "bottom": null,
            "display": null,
            "flex": null,
            "flex_flow": null,
            "grid_area": null,
            "grid_auto_columns": null,
            "grid_auto_flow": null,
            "grid_auto_rows": null,
            "grid_column": null,
            "grid_gap": null,
            "grid_row": null,
            "grid_template_areas": null,
            "grid_template_columns": null,
            "grid_template_rows": null,
            "height": null,
            "justify_content": null,
            "justify_items": null,
            "left": null,
            "margin": null,
            "max_height": null,
            "max_width": null,
            "min_height": null,
            "min_width": null,
            "object_fit": null,
            "object_position": null,
            "order": null,
            "overflow": null,
            "overflow_x": null,
            "overflow_y": null,
            "padding": null,
            "right": null,
            "top": null,
            "visibility": null,
            "width": null
          }
        },
        "c5bb913791224f9caca1a035e36e5141": {
          "model_module": "@jupyter-widgets/controls",
          "model_name": "DescriptionStyleModel",
          "model_module_version": "1.5.0",
          "state": {
            "_model_module": "@jupyter-widgets/controls",
            "_model_module_version": "1.5.0",
            "_model_name": "DescriptionStyleModel",
            "_view_count": null,
            "_view_module": "@jupyter-widgets/base",
            "_view_module_version": "1.2.0",
            "_view_name": "StyleView",
            "description_width": ""
          }
        },
        "529161f8ac954aef892685aa0ffc606a": {
          "model_module": "@jupyter-widgets/controls",
          "model_name": "TextareaModel",
          "model_module_version": "1.5.0",
          "state": {
            "_dom_classes": [],
            "_model_module": "@jupyter-widgets/controls",
            "_model_module_version": "1.5.0",
            "_model_name": "TextareaModel",
            "_view_count": null,
            "_view_module": "@jupyter-widgets/controls",
            "_view_module_version": "1.5.0",
            "_view_name": "TextareaView",
            "continuous_update": true,
            "description": "Palavras-chave (SEO)",
            "description_tooltip": null,
            "disabled": false,
            "layout": "IPY_MODEL_92630ca5676d43a0859b52c889f3e3ac",
            "placeholder": "Ex: Bem-estar, Medicina preventiva",
            "rows": null,
            "style": "IPY_MODEL_114a90cc34e7437aaabe590da668e946",
            "value": ""
          }
        },
        "92630ca5676d43a0859b52c889f3e3ac": {
          "model_module": "@jupyter-widgets/base",
          "model_name": "LayoutModel",
          "model_module_version": "1.2.0",
          "state": {
            "_model_module": "@jupyter-widgets/base",
            "_model_module_version": "1.2.0",
            "_model_name": "LayoutModel",
            "_view_count": null,
            "_view_module": "@jupyter-widgets/base",
            "_view_module_version": "1.2.0",
            "_view_name": "LayoutView",
            "align_content": null,
            "align_items": null,
            "align_self": null,
            "border": null,
            "bottom": null,
            "display": null,
            "flex": null,
            "flex_flow": null,
            "grid_area": null,
            "grid_auto_columns": null,
            "grid_auto_flow": null,
            "grid_auto_rows": null,
            "grid_column": null,
            "grid_gap": null,
            "grid_row": null,
            "grid_template_areas": null,
            "grid_template_columns": null,
            "grid_template_rows": null,
            "height": "50px",
            "justify_content": null,
            "justify_items": null,
            "left": null,
            "margin": null,
            "max_height": null,
            "max_width": null,
            "min_height": null,
            "min_width": null,
            "object_fit": null,
            "object_position": null,
            "order": null,
            "overflow": null,
            "overflow_x": null,
            "overflow_y": null,
            "padding": null,
            "right": null,
            "top": null,
            "visibility": null,
            "width": "500px"
          }
        },
        "114a90cc34e7437aaabe590da668e946": {
          "model_module": "@jupyter-widgets/controls",
          "model_name": "DescriptionStyleModel",
          "model_module_version": "1.5.0",
          "state": {
            "_model_module": "@jupyter-widgets/controls",
            "_model_module_version": "1.5.0",
            "_model_name": "DescriptionStyleModel",
            "_view_count": null,
            "_view_module": "@jupyter-widgets/base",
            "_view_module_version": "1.2.0",
            "_view_name": "StyleView",
            "description_width": ""
          }
        },
        "77e3b8a6050045abbd4070c7915666b7": {
          "model_module": "@jupyter-widgets/controls",
          "model_name": "ButtonModel",
          "model_module_version": "1.5.0",
          "state": {
            "_dom_classes": [],
            "_model_module": "@jupyter-widgets/controls",
            "_model_module_version": "1.5.0",
            "_model_name": "ButtonModel",
            "_view_count": null,
            "_view_module": "@jupyter-widgets/controls",
            "_view_module_version": "1.5.0",
            "_view_name": "ButtonView",
            "button_style": "",
            "description": "Gerar um novo conteúdo",
            "disabled": false,
            "icon": "",
            "layout": "IPY_MODEL_579a89e19f894ea9bbea3d00420d32c0",
            "style": "IPY_MODEL_3011c969383348f98aa52e8fc4734ca5",
            "tooltip": ""
          }
        },
        "579a89e19f894ea9bbea3d00420d32c0": {
          "model_module": "@jupyter-widgets/base",
          "model_name": "LayoutModel",
          "model_module_version": "1.2.0",
          "state": {
            "_model_module": "@jupyter-widgets/base",
            "_model_module_version": "1.2.0",
            "_model_name": "LayoutModel",
            "_view_count": null,
            "_view_module": "@jupyter-widgets/base",
            "_view_module_version": "1.2.0",
            "_view_name": "LayoutView",
            "align_content": null,
            "align_items": null,
            "align_self": null,
            "border": null,
            "bottom": null,
            "display": null,
            "flex": null,
            "flex_flow": null,
            "grid_area": null,
            "grid_auto_columns": null,
            "grid_auto_flow": null,
            "grid_auto_rows": null,
            "grid_column": null,
            "grid_gap": null,
            "grid_row": null,
            "grid_template_areas": null,
            "grid_template_columns": null,
            "grid_template_rows": null,
            "height": null,
            "justify_content": null,
            "justify_items": null,
            "left": null,
            "margin": null,
            "max_height": null,
            "max_width": null,
            "min_height": null,
            "min_width": null,
            "object_fit": null,
            "object_position": null,
            "order": null,
            "overflow": null,
            "overflow_x": null,
            "overflow_y": null,
            "padding": null,
            "right": null,
            "top": null,
            "visibility": null,
            "width": null
          }
        },
        "3011c969383348f98aa52e8fc4734ca5": {
          "model_module": "@jupyter-widgets/controls",
          "model_name": "ButtonStyleModel",
          "model_module_version": "1.5.0",
          "state": {
            "_model_module": "@jupyter-widgets/controls",
            "_model_module_version": "1.5.0",
            "_model_name": "ButtonStyleModel",
            "_view_count": null,
            "_view_module": "@jupyter-widgets/base",
            "_view_module_version": "1.2.0",
            "_view_name": "StyleView",
            "button_color": null,
            "font_weight": ""
          }
        },
        "bb245bcd1bb14176b2ae3e2b7f4af684": {
          "model_module": "@jupyter-widgets/output",
          "model_name": "OutputModel",
          "model_module_version": "1.0.0",
          "state": {
            "_dom_classes": [],
            "_model_module": "@jupyter-widgets/output",
            "_model_module_version": "1.0.0",
            "_model_name": "OutputModel",
            "_view_count": null,
            "_view_module": "@jupyter-widgets/output",
            "_view_module_version": "1.0.0",
            "_view_name": "OutputView",
            "layout": "IPY_MODEL_6e554c1b919b46669c92ce1650287787",
            "msg_id": "",
            "outputs": []
          }
        },
        "6e554c1b919b46669c92ce1650287787": {
          "model_module": "@jupyter-widgets/base",
          "model_name": "LayoutModel",
          "model_module_version": "1.2.0",
          "state": {
            "_model_module": "@jupyter-widgets/base",
            "_model_module_version": "1.2.0",
            "_model_name": "LayoutModel",
            "_view_count": null,
            "_view_module": "@jupyter-widgets/base",
            "_view_module_version": "1.2.0",
            "_view_name": "LayoutView",
            "align_content": null,
            "align_items": null,
            "align_self": null,
            "border": null,
            "bottom": null,
            "display": null,
            "flex": null,
            "flex_flow": null,
            "grid_area": null,
            "grid_auto_columns": null,
            "grid_auto_flow": null,
            "grid_auto_rows": null,
            "grid_column": null,
            "grid_gap": null,
            "grid_row": null,
            "grid_template_areas": null,
            "grid_template_columns": null,
            "grid_template_rows": null,
            "height": null,
            "justify_content": null,
            "justify_items": null,
            "left": null,
            "margin": null,
            "max_height": null,
            "max_width": null,
            "min_height": null,
            "min_width": null,
            "object_fit": null,
            "object_position": null,
            "order": null,
            "overflow": null,
            "overflow_x": null,
            "overflow_y": null,
            "padding": null,
            "right": null,
            "top": null,
            "visibility": null,
            "width": null
          }
        },
        "a73ed4ceafc747b09a81ea44b8a34d58": {
          "model_module": "@jupyter-widgets/controls",
          "model_name": "VBoxModel",
          "model_module_version": "1.5.0",
          "state": {
            "_dom_classes": [],
            "_model_module": "@jupyter-widgets/controls",
            "_model_module_version": "1.5.0",
            "_model_name": "VBoxModel",
            "_view_count": null,
            "_view_module": "@jupyter-widgets/controls",
            "_view_module_version": "1.5.0",
            "_view_name": "VBoxView",
            "box_style": "",
            "children": [
              "IPY_MODEL_107954957a694de196dfd560ef9cfba4",
              "IPY_MODEL_29084eb1ca73471f8cc73d3dc65a41aa",
              "IPY_MODEL_2ba54f862d1646a585c8b9a28f10ec90",
              "IPY_MODEL_9839b881e6db4aecaae9d2d6a1cedba7",
              "IPY_MODEL_f22df512408f438da6f29875fa72231e",
              "IPY_MODEL_397aad16bded48a7b4d6f60454f6651f",
              "IPY_MODEL_01a7b59b485c46ef8b2d819ea2429836",
              "IPY_MODEL_529161f8ac954aef892685aa0ffc606a",
              "IPY_MODEL_77e3b8a6050045abbd4070c7915666b7",
              "IPY_MODEL_bb245bcd1bb14176b2ae3e2b7f4af684"
            ],
            "layout": "IPY_MODEL_3fd4668026a04dd09772362f662412c5"
          }
        },
        "29084eb1ca73471f8cc73d3dc65a41aa": {
          "model_module": "@jupyter-widgets/controls",
          "model_name": "DropdownModel",
          "model_module_version": "1.5.0",
          "state": {
            "_dom_classes": [],
            "_model_module": "@jupyter-widgets/controls",
            "_model_module_version": "1.5.0",
            "_model_name": "DropdownModel",
            "_options_labels": [
              "Instagram",
              "Facebook",
              "Linkedin",
              "Blog",
              "E-mail"
            ],
            "_view_count": null,
            "_view_module": "@jupyter-widgets/controls",
            "_view_module_version": "1.5.0",
            "_view_name": "DropdownView",
            "description": "plataform",
            "description_tooltip": null,
            "disabled": false,
            "index": 0,
            "layout": "IPY_MODEL_c1b3ceb833164d65a83b632343287424",
            "style": "IPY_MODEL_2f98b2cc45e1473e966b5d9459147201"
          }
        },
        "3fd4668026a04dd09772362f662412c5": {
          "model_module": "@jupyter-widgets/base",
          "model_name": "LayoutModel",
          "model_module_version": "1.2.0",
          "state": {
            "_model_module": "@jupyter-widgets/base",
            "_model_module_version": "1.2.0",
            "_model_name": "LayoutModel",
            "_view_count": null,
            "_view_module": "@jupyter-widgets/base",
            "_view_module_version": "1.2.0",
            "_view_name": "LayoutView",
            "align_content": null,
            "align_items": null,
            "align_self": null,
            "border": null,
            "bottom": null,
            "display": null,
            "flex": null,
            "flex_flow": null,
            "grid_area": null,
            "grid_auto_columns": null,
            "grid_auto_flow": null,
            "grid_auto_rows": null,
            "grid_column": null,
            "grid_gap": null,
            "grid_row": null,
            "grid_template_areas": null,
            "grid_template_columns": null,
            "grid_template_rows": null,
            "height": null,
            "justify_content": null,
            "justify_items": null,
            "left": null,
            "margin": null,
            "max_height": null,
            "max_width": null,
            "min_height": null,
            "min_width": null,
            "object_fit": null,
            "object_position": null,
            "order": null,
            "overflow": null,
            "overflow_x": null,
            "overflow_y": null,
            "padding": null,
            "right": null,
            "top": null,
            "visibility": null,
            "width": null
          }
        },
        "c1b3ceb833164d65a83b632343287424": {
          "model_module": "@jupyter-widgets/base",
          "model_name": "LayoutModel",
          "model_module_version": "1.2.0",
          "state": {
            "_model_module": "@jupyter-widgets/base",
            "_model_module_version": "1.2.0",
            "_model_name": "LayoutModel",
            "_view_count": null,
            "_view_module": "@jupyter-widgets/base",
            "_view_module_version": "1.2.0",
            "_view_name": "LayoutView",
            "align_content": null,
            "align_items": null,
            "align_self": null,
            "border": null,
            "bottom": null,
            "display": null,
            "flex": null,
            "flex_flow": null,
            "grid_area": null,
            "grid_auto_columns": null,
            "grid_auto_flow": null,
            "grid_auto_rows": null,
            "grid_column": null,
            "grid_gap": null,
            "grid_row": null,
            "grid_template_areas": null,
            "grid_template_columns": null,
            "grid_template_rows": null,
            "height": null,
            "justify_content": null,
            "justify_items": null,
            "left": null,
            "margin": null,
            "max_height": null,
            "max_width": null,
            "min_height": null,
            "min_width": null,
            "object_fit": null,
            "object_position": null,
            "order": null,
            "overflow": null,
            "overflow_x": null,
            "overflow_y": null,
            "padding": null,
            "right": null,
            "top": null,
            "visibility": null,
            "width": "250px"
          }
        },
        "2f98b2cc45e1473e966b5d9459147201": {
          "model_module": "@jupyter-widgets/controls",
          "model_name": "DescriptionStyleModel",
          "model_module_version": "1.5.0",
          "state": {
            "_model_module": "@jupyter-widgets/controls",
            "_model_module_version": "1.5.0",
            "_model_name": "DescriptionStyleModel",
            "_view_count": null,
            "_view_module": "@jupyter-widgets/base",
            "_view_module_version": "1.2.0",
            "_view_name": "StyleView",
            "description_width": ""
          }
        }
      }
    }
  },
  "cells": [
    {
      "cell_type": "markdown",
      "metadata": {
        "id": "view-in-github",
        "colab_type": "text"
      },
      "source": [
        "<a href=\"https://colab.research.google.com/github/Letieri1008/Br35H-Brain-Tumor-Detection-2020/blob/main/LLMs_e_Agentes_de_IA_para_Empresas_e_Neg%C3%B3cios.ipynb\" target=\"_parent\"><img src=\"https://colab.research.google.com/assets/colab-badge.svg\" alt=\"Open In Colab\"/></a>"
      ]
    },
    {
      "cell_type": "code",
      "execution_count": 144,
      "metadata": {
        "id": "yZViLTG_MO4Y"
      },
      "outputs": [],
      "source": [
        " # projeto para departamento de marketing"
      ]
    },
    {
      "cell_type": "code",
      "source": [
        "!pip install -q langchain langchain-community langchain-groq ipywidgets"
      ],
      "metadata": {
        "id": "nvqydtbwNZOv"
      },
      "execution_count": 145,
      "outputs": []
    },
    {
      "cell_type": "code",
      "source": [
        "from google.colab import widgets\n",
        "import ipywidgets as widgets\n",
        "\n",
        "from langchain_groq import ChatGroq\n",
        "import os\n",
        "import getpass"
      ],
      "metadata": {
        "id": "1HC0w4CrqQEC"
      },
      "execution_count": 146,
      "outputs": []
    },
    {
      "cell_type": "code",
      "source": [
        "topic = widgets.Text(\n",
        "\n",
        "    descripition = 'Tema: ',\n",
        "    placeholder = 'Ex: saúde mental, alimentação saudável, prevenção , etc. ',\n",
        "    layout = widgets.widgets.Layout(width= '500px')\n",
        "\n",
        ")\n",
        "\n",
        "display(topic)"
      ],
      "metadata": {
        "colab": {
          "base_uri": "https://localhost:8080/",
          "height": 49,
          "referenced_widgets": [
            "7dd93e2cd3d1454e96bf520f1e08bca6",
            "8660111168a64b2c8699b0824048f06a",
            "d98b7bea686d4f1dadaee629511b3344"
          ]
        },
        "id": "lYwCSV2RNeiE",
        "outputId": "e9cc2a42-376b-4c8e-f5e3-393207d0c9c9"
      },
      "execution_count": 147,
      "outputs": [
        {
          "output_type": "display_data",
          "data": {
            "text/plain": [
              "Text(value='', layout=Layout(width='500px'), placeholder='Ex: saúde mental, alimentação saudável, prevenção , …"
            ],
            "application/vnd.jupyter.widget-view+json": {
              "version_major": 2,
              "version_minor": 0,
              "model_id": "7dd93e2cd3d1454e96bf520f1e08bca6"
            }
          },
          "metadata": {}
        }
      ]
    },
    {
      "cell_type": "code",
      "source": [
        "display(topic)"
      ],
      "metadata": {
        "colab": {
          "base_uri": "https://localhost:8080/",
          "height": 49,
          "referenced_widgets": [
            "7dd93e2cd3d1454e96bf520f1e08bca6",
            "8660111168a64b2c8699b0824048f06a",
            "d98b7bea686d4f1dadaee629511b3344"
          ]
        },
        "id": "Yx7SxWFfNm0c",
        "outputId": "ffe9f40d-3a41-4dce-97f1-0a53a134c534"
      },
      "execution_count": 148,
      "outputs": [
        {
          "output_type": "display_data",
          "data": {
            "text/plain": [
              "Text(value='', layout=Layout(width='500px'), placeholder='Ex: saúde mental, alimentação saudável, prevenção , …"
            ],
            "application/vnd.jupyter.widget-view+json": {
              "version_major": 2,
              "version_minor": 0,
              "model_id": "7dd93e2cd3d1454e96bf520f1e08bca6"
            }
          },
          "metadata": {}
        }
      ]
    },
    {
      "cell_type": "code",
      "source": [
        "topic.value\n"
      ],
      "metadata": {
        "colab": {
          "base_uri": "https://localhost:8080/",
          "height": 35
        },
        "id": "M2KjV-KZNpC5",
        "outputId": "5e065b95-294c-42b6-e01f-fa1617792210"
      },
      "execution_count": 149,
      "outputs": [
        {
          "output_type": "execute_result",
          "data": {
            "text/plain": [
              "''"
            ],
            "application/vnd.google.colaboratory.intrinsic+json": {
              "type": "string"
            }
          },
          "metadata": {},
          "execution_count": 149
        }
      ]
    },
    {
      "cell_type": "code",
      "source": [
        "topic = widgets.Text(\n",
        "    description = 'Tema: ',\n",
        "    placeholder = 'Ex: saúde mental, alimentação saudável, prevenção, etc ',\n",
        "    layout = widgets.Layout(width='500px')\n",
        "\n",
        ")\n",
        "display(topic)"
      ],
      "metadata": {
        "colab": {
          "base_uri": "https://localhost:8080/",
          "height": 49,
          "referenced_widgets": [
            "107954957a694de196dfd560ef9cfba4",
            "91f7754319d342a4b8b41217d96fc910",
            "61d48d83cbe34867ae499fbc5a462284"
          ]
        },
        "id": "mzgklTlyNqmp",
        "outputId": "aa200a10-d480-4cf4-9e2a-00cbfb351ff8"
      },
      "execution_count": 150,
      "outputs": [
        {
          "output_type": "display_data",
          "data": {
            "text/plain": [
              "Text(value='', description='Tema: ', layout=Layout(width='500px'), placeholder='Ex: saúde mental, alimentação …"
            ],
            "application/vnd.jupyter.widget-view+json": {
              "version_major": 2,
              "version_minor": 0,
              "model_id": "107954957a694de196dfd560ef9cfba4"
            }
          },
          "metadata": {}
        }
      ]
    },
    {
      "cell_type": "code",
      "source": [
        "# outros formatos de campo\n",
        "\n",
        "w_dropdown = '250px'\n",
        "\n",
        "plataform = widgets.Dropdown(\n",
        "    options = ['Instagram','Facebook','Linkedin','Blog', 'E-mail'],\n",
        "    description = 'plataform',\n",
        "    layout = widgets.Layout(width= w_dropdown)\n",
        "\n",
        ")\n",
        "\n",
        "tone = widgets.Dropdown(\n",
        "    options = ['Normal','Informativo', 'Inspirador', 'Urgente', 'Informal'],\n",
        "    description = 'Tom:',\n",
        "    layout = widgets.Layout(width=w_dropdown)\n",
        ")\n",
        "\n",
        "\n",
        "length = widgets.Dropdown(\n",
        "    options = ['Curto', 'Medio', 'Longo'],\n",
        "    description = 'Tamanho: ',\n",
        "    layout = widgets.Layout(width=w_dropdown)\n",
        ")\n",
        "\n",
        "audience = widgets.Dropdown(\n",
        "    options = ['Geral', 'Jovens adultos', 'Famílias', 'Idosos', 'Adolescentes'],\n",
        "    description = 'Público-alvo: ',\n",
        "    layout = widgets.Layout(width=w_dropdown)\n",
        ")\n",
        "\n",
        "display(length, tone, length, audience)"
      ],
      "metadata": {
        "colab": {
          "base_uri": "https://localhost:8080/",
          "height": 139,
          "referenced_widgets": [
            "9839b881e6db4aecaae9d2d6a1cedba7",
            "a338e2bf15b4498ab172bbeec730d85d",
            "df3669e7f09445d993852c70091383a6",
            "2ba54f862d1646a585c8b9a28f10ec90",
            "e0b9a3eb34e34a8393bce170bb261126",
            "9768b25bb52843b3a1601ea889e0b5ac",
            "f22df512408f438da6f29875fa72231e",
            "e551f9e3cbf2410bb46e3d0db42ef91c",
            "afc6b500651a4aaa8a0c09ae803b4427"
          ]
        },
        "id": "-SfoXyGmNsuM",
        "outputId": "3d2dcf0d-1085-4601-acd3-73f9d97f12f0"
      },
      "execution_count": 151,
      "outputs": [
        {
          "output_type": "display_data",
          "data": {
            "text/plain": [
              "Dropdown(description='Tamanho: ', layout=Layout(width='250px'), options=('Curto', 'Medio', 'Longo'), value='Cu…"
            ],
            "application/vnd.jupyter.widget-view+json": {
              "version_major": 2,
              "version_minor": 0,
              "model_id": "9839b881e6db4aecaae9d2d6a1cedba7"
            }
          },
          "metadata": {}
        },
        {
          "output_type": "display_data",
          "data": {
            "text/plain": [
              "Dropdown(description='Tom:', layout=Layout(width='250px'), options=('Normal', 'Informativo', 'Inspirador', 'Ur…"
            ],
            "application/vnd.jupyter.widget-view+json": {
              "version_major": 2,
              "version_minor": 0,
              "model_id": "2ba54f862d1646a585c8b9a28f10ec90"
            }
          },
          "metadata": {}
        },
        {
          "output_type": "display_data",
          "data": {
            "text/plain": [
              "Dropdown(description='Tamanho: ', layout=Layout(width='250px'), options=('Curto', 'Medio', 'Longo'), value='Cu…"
            ],
            "application/vnd.jupyter.widget-view+json": {
              "version_major": 2,
              "version_minor": 0,
              "model_id": "9839b881e6db4aecaae9d2d6a1cedba7"
            }
          },
          "metadata": {}
        },
        {
          "output_type": "display_data",
          "data": {
            "text/plain": [
              "Dropdown(description='Público-alvo: ', layout=Layout(width='250px'), options=('Geral', 'Jovens adultos', 'Famí…"
            ],
            "application/vnd.jupyter.widget-view+json": {
              "version_major": 2,
              "version_minor": 0,
              "model_id": "f22df512408f438da6f29875fa72231e"
            }
          },
          "metadata": {}
        }
      ]
    },
    {
      "cell_type": "code",
      "source": [
        "# botões de geração\n",
        "\n",
        "cta = widgets.Checkbox(\n",
        "    value =  False,\n",
        "    description = 'Incluir CTA',\n",
        ")\n",
        "hashtags = widgets.Checkbox(\n",
        "    valeu= False,\n",
        "    description = 'Retonar Hashtag',\n",
        "\n",
        "\n",
        ")\n",
        "\n",
        "display(cta,hashtags)"
      ],
      "metadata": {
        "colab": {
          "base_uri": "https://localhost:8080/",
          "height": 79,
          "referenced_widgets": [
            "397aad16bded48a7b4d6f60454f6651f",
            "d4503ad73d7a4dd494e4dbe5723eff4a",
            "52f5f5ea83914277888b0b2adbc57183",
            "01a7b59b485c46ef8b2d819ea2429836",
            "53ce4cf63c814002978a21af9995ca20",
            "c5bb913791224f9caca1a035e36e5141"
          ]
        },
        "id": "bqe8LmOUNvKU",
        "outputId": "4cfd1f73-14e2-4711-f4c1-13bc2fa9aa82"
      },
      "execution_count": 152,
      "outputs": [
        {
          "output_type": "display_data",
          "data": {
            "text/plain": [
              "Checkbox(value=False, description='Incluir CTA')"
            ],
            "application/vnd.jupyter.widget-view+json": {
              "version_major": 2,
              "version_minor": 0,
              "model_id": "397aad16bded48a7b4d6f60454f6651f"
            }
          },
          "metadata": {}
        },
        {
          "output_type": "display_data",
          "data": {
            "text/plain": [
              "Checkbox(value=False, description='Retonar Hashtag')"
            ],
            "application/vnd.jupyter.widget-view+json": {
              "version_major": 2,
              "version_minor": 0,
              "model_id": "01a7b59b485c46ef8b2d819ea2429836"
            }
          },
          "metadata": {}
        }
      ]
    },
    {
      "cell_type": "code",
      "source": [
        "Keywords = widgets.Textarea(\n",
        "    description='Palavras-chave (SEO)',\n",
        "    placeholder='Ex: Bem-estar, Medicina preventiva',\n",
        "    layout = widgets.Layout(width='500px', height= '50px')\n",
        ")\n",
        "\n",
        "display(Keywords)"
      ],
      "metadata": {
        "colab": {
          "base_uri": "https://localhost:8080/",
          "height": 71,
          "referenced_widgets": [
            "529161f8ac954aef892685aa0ffc606a",
            "92630ca5676d43a0859b52c889f3e3ac",
            "114a90cc34e7437aaabe590da668e946"
          ]
        },
        "id": "Quv3g-aXNxil",
        "outputId": "31140362-ca77-49f9-a8ba-c883b4490cca"
      },
      "execution_count": 153,
      "outputs": [
        {
          "output_type": "display_data",
          "data": {
            "text/plain": [
              "Textarea(value='', description='Palavras-chave (SEO)', layout=Layout(height='50px', width='500px'), placeholde…"
            ],
            "application/vnd.jupyter.widget-view+json": {
              "version_major": 2,
              "version_minor": 0,
              "model_id": "529161f8ac954aef892685aa0ffc606a"
            }
          },
          "metadata": {}
        }
      ]
    },
    {
      "cell_type": "code",
      "source": [
        "generate_button = widgets.Button(\n",
        "    description = 'Gerar um novo conteúdo',\n",
        "\n",
        ")\n",
        "\n",
        "display(generate_button)"
      ],
      "metadata": {
        "colab": {
          "base_uri": "https://localhost:8080/",
          "height": 49,
          "referenced_widgets": [
            "77e3b8a6050045abbd4070c7915666b7",
            "579a89e19f894ea9bbea3d00420d32c0",
            "3011c969383348f98aa52e8fc4734ca5"
          ]
        },
        "id": "Z5xsIEEoNzAR",
        "outputId": "986371bb-368b-414f-e31a-50c31f87dba0"
      },
      "execution_count": 154,
      "outputs": [
        {
          "output_type": "display_data",
          "data": {
            "text/plain": [
              "Button(description='Gerar um novo conteúdo', style=ButtonStyle())"
            ],
            "application/vnd.jupyter.widget-view+json": {
              "version_major": 2,
              "version_minor": 0,
              "model_id": "77e3b8a6050045abbd4070c7915666b7"
            }
          },
          "metadata": {}
        }
      ]
    },
    {
      "cell_type": "code",
      "source": [
        "# exibição\n",
        "\n",
        "output = widgets.Output()"
      ],
      "metadata": {
        "id": "x71It8x2N07M"
      },
      "execution_count": 155,
      "outputs": []
    },
    {
      "cell_type": "code",
      "source": [
        "def generate_result(b):\n",
        "    with output:\n",
        "        output.clear_output()\n",
        "        print(\"Ok!\")"
      ],
      "metadata": {
        "id": "50e4f6SZOB6q"
      },
      "execution_count": 156,
      "outputs": []
    },
    {
      "cell_type": "code",
      "source": [
        "generate_button.on_click(generate_result\n",
        "                         )"
      ],
      "metadata": {
        "id": "9XFLd5vHOD65"
      },
      "execution_count": 157,
      "outputs": []
    },
    {
      "cell_type": "code",
      "source": [
        "display(generate_button,output)"
      ],
      "metadata": {
        "colab": {
          "base_uri": "https://localhost:8080/",
          "height": 49,
          "referenced_widgets": [
            "77e3b8a6050045abbd4070c7915666b7",
            "579a89e19f894ea9bbea3d00420d32c0",
            "3011c969383348f98aa52e8fc4734ca5",
            "bb245bcd1bb14176b2ae3e2b7f4af684",
            "6e554c1b919b46669c92ce1650287787"
          ]
        },
        "id": "HZOrc9h7OFO9",
        "outputId": "59a1a220-d644-4e60-8f4b-ab301b32fda6"
      },
      "execution_count": 158,
      "outputs": [
        {
          "output_type": "display_data",
          "data": {
            "text/plain": [
              "Button(description='Gerar um novo conteúdo', style=ButtonStyle())"
            ],
            "application/vnd.jupyter.widget-view+json": {
              "version_major": 2,
              "version_minor": 0,
              "model_id": "77e3b8a6050045abbd4070c7915666b7"
            }
          },
          "metadata": {}
        },
        {
          "output_type": "display_data",
          "data": {
            "text/plain": [
              "Output()"
            ],
            "application/vnd.jupyter.widget-view+json": {
              "version_major": 2,
              "version_minor": 0,
              "model_id": "bb245bcd1bb14176b2ae3e2b7f4af684"
            }
          },
          "metadata": {}
        }
      ]
    },
    {
      "cell_type": "code",
      "source": [
        "def creat_form():\n",
        "    return widgets.VBox([\n",
        "        topic,\n",
        "        plataform,\n",
        "        tone,\n",
        "        length,\n",
        "        audience,\n",
        "        cta,\n",
        "        hashtags,\n",
        "        Keywords,\n",
        "        generate_button,\n",
        "        output\n",
        "    ])\n",
        "\n",
        "form = creat_form()\n",
        "display(form)\n"
      ],
      "metadata": {
        "colab": {
          "base_uri": "https://localhost:8080/",
          "height": 327,
          "referenced_widgets": [
            "a73ed4ceafc747b09a81ea44b8a34d58",
            "107954957a694de196dfd560ef9cfba4",
            "29084eb1ca73471f8cc73d3dc65a41aa",
            "2ba54f862d1646a585c8b9a28f10ec90",
            "9839b881e6db4aecaae9d2d6a1cedba7",
            "f22df512408f438da6f29875fa72231e",
            "397aad16bded48a7b4d6f60454f6651f",
            "01a7b59b485c46ef8b2d819ea2429836",
            "529161f8ac954aef892685aa0ffc606a",
            "77e3b8a6050045abbd4070c7915666b7",
            "bb245bcd1bb14176b2ae3e2b7f4af684",
            "3fd4668026a04dd09772362f662412c5",
            "91f7754319d342a4b8b41217d96fc910",
            "61d48d83cbe34867ae499fbc5a462284",
            "c1b3ceb833164d65a83b632343287424",
            "2f98b2cc45e1473e966b5d9459147201",
            "e0b9a3eb34e34a8393bce170bb261126",
            "9768b25bb52843b3a1601ea889e0b5ac",
            "a338e2bf15b4498ab172bbeec730d85d",
            "df3669e7f09445d993852c70091383a6",
            "e551f9e3cbf2410bb46e3d0db42ef91c",
            "afc6b500651a4aaa8a0c09ae803b4427",
            "d4503ad73d7a4dd494e4dbe5723eff4a",
            "52f5f5ea83914277888b0b2adbc57183",
            "53ce4cf63c814002978a21af9995ca20",
            "c5bb913791224f9caca1a035e36e5141",
            "92630ca5676d43a0859b52c889f3e3ac",
            "114a90cc34e7437aaabe590da668e946",
            "579a89e19f894ea9bbea3d00420d32c0",
            "3011c969383348f98aa52e8fc4734ca5",
            "6e554c1b919b46669c92ce1650287787"
          ]
        },
        "id": "XeauUEVOOKIF",
        "outputId": "caef5c73-a00d-4b1c-c82e-93b40c488159"
      },
      "execution_count": 159,
      "outputs": [
        {
          "output_type": "display_data",
          "data": {
            "text/plain": [
              "VBox(children=(Text(value='', description='Tema: ', layout=Layout(width='500px'), placeholder='Ex: saúde menta…"
            ],
            "application/vnd.jupyter.widget-view+json": {
              "version_major": 2,
              "version_minor": 0,
              "model_id": "a73ed4ceafc747b09a81ea44b8a34d58"
            }
          },
          "metadata": {}
        }
      ]
    },
    {
      "cell_type": "markdown",
      "source": [
        "Conectando com a LLM"
      ],
      "metadata": {
        "id": "25MnxHB_OWoT"
      }
    },
    {
      "cell_type": "code",
      "source": [
        "os.environ[\"GROQ_API_KEY\"] = getpass.getpass()"
      ],
      "metadata": {
        "colab": {
          "base_uri": "https://localhost:8080/"
        },
        "id": "MS5_EWh6OaeJ",
        "outputId": "5c229511-7634-4980-f3d4-cbe017d9a813"
      },
      "execution_count": 160,
      "outputs": [
        {
          "name": "stdout",
          "output_type": "stream",
          "text": [
            "··········\n"
          ]
        }
      ]
    },
    {
      "cell_type": "code",
      "source": [
        "from ast import Param\n",
        "# ID model\n",
        "\n",
        "id_model = \"llama-3.1-8b-instant\" #@param {type: \"string\"}\n",
        "llm = ChatGroq(\n",
        "    model = id_model,\n",
        "    temperature= 0.7,\n",
        "    max_tokens= None,\n",
        "    timeout = None,\n",
        "    max_retries= 2,\n",
        "\n",
        ")\n",
        "\n"
      ],
      "metadata": {
        "id": "AGHcQBW4PQOX"
      },
      "execution_count": 161,
      "outputs": []
    },
    {
      "cell_type": "markdown",
      "source": [
        "Formatação : Mensagens"
      ],
      "metadata": {
        "id": "j0Mop8fUQUt2"
      }
    },
    {
      "cell_type": "code",
      "source": [
        "from re import template\n",
        "prompt = \"Olá , quem é você?\" #@param {type:\"string\"}\n",
        "\n",
        "template = [\n",
        "    (\"system\", \"Você é um redator profissional\"),\n",
        "    (\"human\",prompt)\n",
        "]\n",
        "\n",
        "res = llm.invoke(template)\n",
        "print(res.content)\n"
      ],
      "metadata": {
        "colab": {
          "base_uri": "https://localhost:8080/"
        },
        "id": "e3i8JDEZsSFN",
        "outputId": "b92f28d3-9b65-4909-fa6f-b0516de54e69"
      },
      "execution_count": 162,
      "outputs": [
        {
          "output_type": "stream",
          "name": "stdout",
          "text": [
            "Olá! Eu sou um modelo de linguagem de inteligência artificial, ou seja, um modelo de linguagem treinado para entender e gerar texto. Estou aqui para ajudar com suas perguntas e responder a qualquer dúvida que você tenha.\n",
            "\n",
            "Como redator profissional, posso ajudar com uma variedade de tarefas, como:\n",
            "\n",
            "- Escrever textos de alta qualidade sobre qualquer tema\n",
            "- Editar e revisar textos para melhorar a clareza e o estilo\n",
            "- Criar conteúdo para blogs, redes sociais e outros canais de mídia\n",
            "- Desenvolver planos de marketing e conteúdo para empresas e organizações\n",
            "\n",
            "Estou aqui para ajudar com qualquer coisa que você precise. Qual é a sua solicitação?\n"
          ]
        }
      ]
    },
    {
      "cell_type": "code",
      "source": [
        "res.content"
      ],
      "metadata": {
        "colab": {
          "base_uri": "https://localhost:8080/",
          "height": 140
        },
        "id": "uuqgDmrttHXb",
        "outputId": "a5e3d90b-0b71-4953-f7e5-1d0507008a2d"
      },
      "execution_count": 163,
      "outputs": [
        {
          "output_type": "execute_result",
          "data": {
            "text/plain": [
              "'Olá! Eu sou um modelo de linguagem de inteligência artificial, ou seja, um modelo de linguagem treinado para entender e gerar texto. Estou aqui para ajudar com suas perguntas e responder a qualquer dúvida que você tenha.\\n\\nComo redator profissional, posso ajudar com uma variedade de tarefas, como:\\n\\n- Escrever textos de alta qualidade sobre qualquer tema\\n- Editar e revisar textos para melhorar a clareza e o estilo\\n- Criar conteúdo para blogs, redes sociais e outros canais de mídia\\n- Desenvolver planos de marketing e conteúdo para empresas e organizações\\n\\nEstou aqui para ajudar com qualquer coisa que você precise. Qual é a sua solicitação?'"
            ],
            "application/vnd.google.colaboratory.intrinsic+json": {
              "type": "string"
            }
          },
          "metadata": {},
          "execution_count": 163
        }
      ]
    },
    {
      "cell_type": "code",
      "source": [
        "from langchain.prompts import ChatPromptTemplate\n",
        "from langchain_groq import ChatGroq\n",
        "\n",
        "# Prompt como ChatPromptTemplate (não lista)\n",
        "template = ChatPromptTemplate.from_messages([\n",
        "    (\"system\", \"Você é um redator profissional\"),\n",
        "    (\"human\", \"{prompt}\")\n",
        "])\n",
        "\n",
        "# Modelo\n",
        "llm = ChatGroq(model=\"llama-3.3-70b-versatile\")\n",
        "\n",
        "# Encadear\n",
        "chain = template | llm\n",
        "\n",
        "# Executar\n",
        "res = chain.invoke({\"prompt\": prompt})\n",
        "print(res.content)\n",
        "\n"
      ],
      "metadata": {
        "id": "S2vDdYo5tJwB",
        "colab": {
          "base_uri": "https://localhost:8080/"
        },
        "outputId": "1044f147-a40c-4ced-8c05-e8b001972356"
      },
      "execution_count": 164,
      "outputs": [
        {
          "output_type": "stream",
          "name": "stdout",
          "text": [
            "Olá! Sou um assistente de linguagem treinado por máquina, mas posso atuar como um redator profissional para ajudá-lo com suas necessidades de escrita. Posso criar textos, artigos, relatórios e muito mais, com clareza, concisão e estilo.\n",
            "\n",
            "Sou um modelo de linguagem avançado, treinado em uma grande variedade de textos e estilos de escrita, o que me permite criar conteúdo de alta qualidade e personalizado para suas necessidades.\n",
            "\n",
            "Posso ajudá-lo com:\n",
            "\n",
            "* Redação de artigos e textos\n",
            "* Criação de conteúdo para sites e blogs\n",
            "* Elaboração de relatórios e documentos\n",
            "* Revisão e edição de textos\n",
            "* Tradução de textos\n",
            "\n",
            "Estou aqui para ajudá-lo com suas necessidades de escrita. O que você precisa?\n"
          ]
        }
      ]
    },
    {
      "cell_type": "markdown",
      "source": [
        "output parser"
      ],
      "metadata": {
        "id": "cT6hHeq_vK3h"
      }
    },
    {
      "cell_type": "code",
      "source": [
        "from langchain.prompts import ChatPromptTemplate\n",
        "from langchain_groq import ChatGroq\n",
        "from langchain_core.output_parsers import StrOutputParser\n",
        "\n",
        "\n",
        "# Prompt como ChatPromptTemplate (não lista)\n",
        "\n",
        "template = ChatPromptTemplate.from_messages([\n",
        "    (\"system\", \"Você é um redator profissional\"),\n",
        "    (\"human\", \"{prompt}\")\n",
        "])\n",
        "\n",
        "chain = template | llm | StrOutputParser()\n",
        "\n",
        "# Executar\n",
        "res = chain.invoke({\"prompt\": prompt})\n",
        "res"
      ],
      "metadata": {
        "id": "b4hK377YvGOB",
        "colab": {
          "base_uri": "https://localhost:8080/",
          "height": 157
        },
        "outputId": "1e4ec268-a006-42c1-8ccf-08ce7e5b3e8c"
      },
      "execution_count": 190,
      "outputs": [
        {
          "output_type": "execute_result",
          "data": {
            "text/plain": [
              "'Olá! Eu sou um assistente virtual treinado por uma equipe de especialistas em linguagem natural. Meu objetivo é fornecer informações precisas e úteis para ajudar as pessoas em suas necessidades.\\n\\nSou um modelo de linguagem avançado, capaz de entender e responder a perguntas e solicitações em português. Posso ajudar com tarefas como:\\n\\n* Responder perguntas sobre diversos assuntos, desde ciência e história até entretenimento e cultura;\\n* Fornecer definições e explicações de termos e conceitos;\\n* Oferecer dicas e conselhos sobre temas como saúde, finanças e tecnologia;\\n* Criar textos e respostas personalizadas para atender às necessidades específicas dos usuários.\\n\\nEstou aqui para ajudar e fornecer informações úteis de forma clara e concisa. Como posso ajudá-lo hoje?'"
            ],
            "application/vnd.google.colaboratory.intrinsic+json": {
              "type": "string"
            }
          },
          "metadata": {},
          "execution_count": 190
        }
      ]
    },
    {
      "cell_type": "code",
      "source": [
        "def show_res(res):\n",
        "  from IPython.display import Markdown\n",
        "  display(Markdown(res))\n",
        "\n",
        "show_res(res)"
      ],
      "metadata": {
        "colab": {
          "base_uri": "https://localhost:8080/",
          "height": 203
        },
        "id": "H002UlpCxltI",
        "outputId": "cae26301-2d56-433a-b908-1a510f5427d8"
      },
      "execution_count": 199,
      "outputs": [
        {
          "output_type": "display_data",
          "data": {
            "text/plain": [
              "<IPython.core.display.Markdown object>"
            ],
            "text/markdown": "Olá! Eu sou um assistente virtual treinado por uma equipe de especialistas em linguagem natural. Meu objetivo é fornecer informações precisas e úteis para ajudar as pessoas em suas necessidades.\n\nSou um modelo de linguagem avançado, capaz de entender e responder a perguntas e solicitações em português. Posso ajudar com tarefas como:\n\n* Responder perguntas sobre diversos assuntos, desde ciência e história até entretenimento e cultura;\n* Fornecer definições e explicações de termos e conceitos;\n* Oferecer dicas e conselhos sobre temas como saúde, finanças e tecnologia;\n* Criar textos e respostas personalizadas para atender às necessidades específicas dos usuários.\n\nEstou aqui para ajudar e fornecer informações úteis de forma clara e concisa. Como posso ajudá-lo hoje?"
          },
          "metadata": {}
        }
      ]
    },
    {
      "cell_type": "markdown",
      "source": [
        "Juntando todas as funções\n"
      ],
      "metadata": {
        "id": "M6I6eMRPx7Z1"
      }
    },
    {
      "cell_type": "code",
      "source": [
        "def llm_generate(llm,prompt):\n",
        "  template = ChatPromptTemplate.from_messages([\n",
        "      (\"system\", \"Você é um redator profissional\"),\n",
        "      (\"human\", \"{prompt}\"),\n",
        "\n",
        "  ])\n",
        "\n",
        "  chain = template | llm | StrOutputParser()\n",
        "\n",
        "  res = chain.invoke({\"prompt\": prompt})\n",
        "  show_res(res)"
      ],
      "metadata": {
        "id": "VgGgNR0mx8Kc"
      },
      "execution_count": 200,
      "outputs": []
    },
    {
      "cell_type": "code",
      "source": [
        "prompt = \"escreva 5 dicas de saúde\" #@ param {type: \"string\"}\n",
        "\n",
        "llm_generate(llm, prompt)"
      ],
      "metadata": {
        "colab": {
          "base_uri": "https://localhost:8080/",
          "height": 434
        },
        "id": "GpvcKXNQzKYk",
        "outputId": "e30f5a3f-ce0f-40e6-ae55-9d34fe188725"
      },
      "execution_count": 201,
      "outputs": [
        {
          "output_type": "display_data",
          "data": {
            "text/plain": [
              "<IPython.core.display.Markdown object>"
            ],
            "text/markdown": "**5 Dicas de Saúde para uma Vida Mais Saudável**\n\nManter uma rotina saudável é fundamental para garantir bem-estar físico e mental. Aqui estão 5 dicas de saúde que podem ajudá-lo a melhorar sua qualidade de vida:\n\n1. **Hidrate-se Adequadamente**: Beber água suficiente é essencial para manter o corpo funcionando corretamente. A hidratação ajuda a regular a temperatura do corpo, a transportar nutrientes e a eliminar toxinas. Tente beber pelo menos 2 litros de água por dia, especialmente após atividades físicas ou em dias quentes.\n\n2. **Alimente-se de Forma Balanceada**: Uma dieta equilibrada é fundamental para manter a saúde. Inclua em sua alimentação uma variedade de frutas, legumes, proteínas magras e grãos integrais. Evite alimentos processados e ricos em açúcar e gordura, pois eles podem contribuir para doenças crônicas, como obesidade e diabetes.\n\n3. **Exercícios Físicos Regulares**: A atividade física regular é fundamental para manter a saúde cardiovascular, fortalecer os músculos e melhorar a flexibilidade. Tente realizar pelo menos 30 minutos de exercício por dia, como caminhar, correr, nadar ou praticar esportes. Além disso, inclua exercícios de força e flexibilidade para manter a saúde muscular e óssea.\n\n4. **Dormir o Suficiente**: O sono é essencial para a recuperação do corpo e a manutenção da saúde mental. Tente dormir entre 7 e 9 horas por noite para ajudar a regular o metabolismo, a memória e o humor. Estabeleça uma rotina de sono regular e crie um ambiente de sono confortável e tranquilo.\n\n5. **Reduza o Estresse**: O estresse crônico pode ter efeitos negativos na saúde, incluindo problemas de sono, ansiedade e doenças cardíacas. Tente reduzir o estresse praticando técnicas de relaxamento, como meditação, yoga ou respiração profunda. Além disso, estabeleça prioridades e limite as atividades que causam estresse em sua vida.\n\nLembre-se de que a saúde é um processo contínuo e que pequenas mudanças podem fazer uma grande diferença ao longo do tempo. Inclua essas dicas em sua rotina e observe como sua saúde e bem-estar podem melhorar significativamente."
          },
          "metadata": {}
        }
      ]
    },
    {
      "cell_type": "code",
      "source": [
        "# outros modelos proprietários\n",
        "\n",
        "!pip install -q langchain-openai\n"
      ],
      "metadata": {
        "id": "PFwNKyrHzmfw"
      },
      "execution_count": 230,
      "outputs": []
    },
    {
      "cell_type": "code",
      "source": [
        "os.environ[\"OPENAI_API_KEY\"] = getpass.getpass()"
      ],
      "metadata": {
        "colab": {
          "base_uri": "https://localhost:8080/"
        },
        "id": "gyXKgxUHz1ke",
        "outputId": "82ec1b48-df43-4fcc-cd46-b17f6b511879"
      },
      "execution_count": 232,
      "outputs": [
        {
          "name": "stdout",
          "output_type": "stream",
          "text": [
            "··········\n"
          ]
        }
      ]
    },
    {
      "cell_type": "code",
      "source": [
        "# https://platform.openai.com/docs/models\n",
        "from langchain_openai import ChatOpenAI\n",
        "chatgpt = ChatOpenAI(model = \"gpt-3.5-turbo\")\n",
        "\n",
        "print(\"Modelo carregado !\")"
      ],
      "metadata": {
        "colab": {
          "base_uri": "https://localhost:8080/"
        },
        "id": "IJICVz2w0JT7",
        "outputId": "3085d314-badd-4b95-cc0c-538d8d4d11f4"
      },
      "execution_count": 236,
      "outputs": [
        {
          "output_type": "stream",
          "name": "stdout",
          "text": [
            "Modelo carregado !\n"
          ]
        }
      ]
    },
    {
      "cell_type": "code",
      "source": [
        "chatgpt = ChatOpenAI(\n",
        "    model = \"gpt-3.5-turbo\",\n",
        "    temperature = 0,\n",
        "    max_tokens = None,\n",
        "    timeout = None,\n",
        "    max_retries= 2\n",
        ")\n"
      ],
      "metadata": {
        "id": "Jvt0Pqv50lt0"
      },
      "execution_count": 258,
      "outputs": []
    },
    {
      "cell_type": "code",
      "source": [
        "chain_chatgpt = template | chatgpt\n",
        "\n",
        "res= chain_chatgpt.invoke({\"prompt\":\"Gere um texto de 2 parágrafos sobre dicas de saúde\"})\n",
        "show_res(res.content)"
      ],
      "metadata": {
        "colab": {
          "base_uri": "https://localhost:8080/",
          "height": 408
        },
        "id": "_0TbLkdj4Qed",
        "outputId": "bacf1b7e-a757-44cc-b0f7-3663be7515b5"
      },
      "execution_count": 260,
      "outputs": [
        {
          "output_type": "error",
          "ename": "KeyError",
          "evalue": "\"Input to ChatPromptTemplate is missing variables {'pergunta'}.  Expected: ['pergunta'] Received: ['prompt']\\nNote: if you intended {pergunta} to be part of the string and not a variable, please escape it with double curly braces like: '{{pergunta}}'.\\nFor troubleshooting, visit: https://python.langchain.com/docs/troubleshooting/errors/INVALID_PROMPT_INPUT \"",
          "traceback": [
            "\u001b[0;31m---------------------------------------------------------------------------\u001b[0m",
            "\u001b[0;31mKeyError\u001b[0m                                  Traceback (most recent call last)",
            "\u001b[0;32m/tmp/ipython-input-1983597108.py\u001b[0m in \u001b[0;36m<cell line: 0>\u001b[0;34m()\u001b[0m\n\u001b[1;32m      1\u001b[0m \u001b[0mchain_chatgpt\u001b[0m \u001b[0;34m=\u001b[0m \u001b[0mtemplate\u001b[0m \u001b[0;34m|\u001b[0m \u001b[0mchatgpt\u001b[0m\u001b[0;34m\u001b[0m\u001b[0;34m\u001b[0m\u001b[0m\n\u001b[1;32m      2\u001b[0m \u001b[0;34m\u001b[0m\u001b[0m\n\u001b[0;32m----> 3\u001b[0;31m \u001b[0mres\u001b[0m\u001b[0;34m=\u001b[0m \u001b[0mchain_chatgpt\u001b[0m\u001b[0;34m.\u001b[0m\u001b[0minvoke\u001b[0m\u001b[0;34m(\u001b[0m\u001b[0;34m{\u001b[0m\u001b[0;34m\"prompt\"\u001b[0m\u001b[0;34m:\u001b[0m\u001b[0;34m\"Gere um texto de 2 parágrafos sobre dicas de saúde\"\u001b[0m\u001b[0;34m}\u001b[0m\u001b[0;34m)\u001b[0m\u001b[0;34m\u001b[0m\u001b[0;34m\u001b[0m\u001b[0m\n\u001b[0m\u001b[1;32m      4\u001b[0m \u001b[0mshow_res\u001b[0m\u001b[0;34m(\u001b[0m\u001b[0mres\u001b[0m\u001b[0;34m.\u001b[0m\u001b[0mcontent\u001b[0m\u001b[0;34m)\u001b[0m\u001b[0;34m\u001b[0m\u001b[0;34m\u001b[0m\u001b[0m\n",
            "\u001b[0;32m/usr/local/lib/python3.12/dist-packages/langchain_core/runnables/base.py\u001b[0m in \u001b[0;36minvoke\u001b[0;34m(self, input, config, **kwargs)\u001b[0m\n\u001b[1;32m   3078\u001b[0m             \u001b[0;32mfor\u001b[0m \u001b[0midx\u001b[0m\u001b[0;34m,\u001b[0m \u001b[0mstep\u001b[0m \u001b[0;32min\u001b[0m \u001b[0menumerate\u001b[0m\u001b[0;34m(\u001b[0m\u001b[0mself\u001b[0m\u001b[0;34m.\u001b[0m\u001b[0msteps\u001b[0m\u001b[0;34m)\u001b[0m\u001b[0;34m\u001b[0m\u001b[0;34m\u001b[0m\u001b[0m\n\u001b[1;32m   3079\u001b[0m             \u001b[0;32mfor\u001b[0m \u001b[0mspec\u001b[0m \u001b[0;32min\u001b[0m \u001b[0mstep\u001b[0m\u001b[0;34m.\u001b[0m\u001b[0mconfig_specs\u001b[0m\u001b[0;34m\u001b[0m\u001b[0;34m\u001b[0m\u001b[0m\n\u001b[0;32m-> 3080\u001b[0;31m         ]\n\u001b[0m\u001b[1;32m   3081\u001b[0m         \u001b[0;31m# calculate context dependencies\u001b[0m\u001b[0;34m\u001b[0m\u001b[0;34m\u001b[0m\u001b[0m\n\u001b[1;32m   3082\u001b[0m         specs_by_pos = groupby(\n",
            "\u001b[0;32m/usr/local/lib/python3.12/dist-packages/langchain_core/prompts/base.py\u001b[0m in \u001b[0;36minvoke\u001b[0;34m(self, input, config, **kwargs)\u001b[0m\n\u001b[1;32m    214\u001b[0m         return self._call_with_config(\n\u001b[1;32m    215\u001b[0m             \u001b[0mself\u001b[0m\u001b[0;34m.\u001b[0m\u001b[0m_format_prompt_with_error_handling\u001b[0m\u001b[0;34m,\u001b[0m\u001b[0;34m\u001b[0m\u001b[0;34m\u001b[0m\u001b[0m\n\u001b[0;32m--> 216\u001b[0;31m             \u001b[0minput\u001b[0m\u001b[0;34m,\u001b[0m\u001b[0;34m\u001b[0m\u001b[0;34m\u001b[0m\u001b[0m\n\u001b[0m\u001b[1;32m    217\u001b[0m             \u001b[0mconfig\u001b[0m\u001b[0;34m,\u001b[0m\u001b[0;34m\u001b[0m\u001b[0;34m\u001b[0m\u001b[0m\n\u001b[1;32m    218\u001b[0m             \u001b[0mrun_type\u001b[0m\u001b[0;34m=\u001b[0m\u001b[0;34m\"prompt\"\u001b[0m\u001b[0;34m,\u001b[0m\u001b[0;34m\u001b[0m\u001b[0;34m\u001b[0m\u001b[0m\n",
            "\u001b[0;32m/usr/local/lib/python3.12/dist-packages/langchain_core/runnables/base.py\u001b[0m in \u001b[0;36m_call_with_config\u001b[0;34m(self, func, input_, config, run_type, serialized, **kwargs)\u001b[0m\n\u001b[1;32m   1951\u001b[0m         \"\"\"Return a new ``Runnable`` that maps a list of inputs to a list of outputs.\n\u001b[1;32m   1952\u001b[0m \u001b[0;34m\u001b[0m\u001b[0m\n\u001b[0;32m-> 1953\u001b[0;31m         \u001b[0mCalls\u001b[0m\u001b[0;31m \u001b[0m\u001b[0;31m`\u001b[0m\u001b[0;31m`\u001b[0m\u001b[0minvoke\u001b[0m\u001b[0;31m`\u001b[0m\u001b[0;31m`\u001b[0m \u001b[0;32mwith\u001b[0m \u001b[0meach\u001b[0m \u001b[0minput\u001b[0m\u001b[0;34m.\u001b[0m\u001b[0;34m\u001b[0m\u001b[0;34m\u001b[0m\u001b[0m\n\u001b[0m\u001b[1;32m   1954\u001b[0m \u001b[0;34m\u001b[0m\u001b[0m\n\u001b[1;32m   1955\u001b[0m         \u001b[0mReturns\u001b[0m\u001b[0;34m:\u001b[0m\u001b[0;34m\u001b[0m\u001b[0;34m\u001b[0m\u001b[0m\n",
            "\u001b[0;32m/usr/local/lib/python3.12/dist-packages/langchain_core/runnables/config.py\u001b[0m in \u001b[0;36mcall_func_with_variable_args\u001b[0;34m(func, input, config, run_manager, **kwargs)\u001b[0m\n\u001b[1;32m    427\u001b[0m             \u001b[0mkwargs\u001b[0m\u001b[0;34m[\u001b[0m\u001b[0;34m\"config\"\u001b[0m\u001b[0;34m]\u001b[0m \u001b[0;34m=\u001b[0m \u001b[0mconfig\u001b[0m\u001b[0;34m\u001b[0m\u001b[0;34m\u001b[0m\u001b[0m\n\u001b[1;32m    428\u001b[0m     \u001b[0;32mif\u001b[0m \u001b[0mrun_manager\u001b[0m \u001b[0;32mis\u001b[0m \u001b[0;32mnot\u001b[0m \u001b[0;32mNone\u001b[0m \u001b[0;32mand\u001b[0m \u001b[0maccepts_run_manager\u001b[0m\u001b[0;34m(\u001b[0m\u001b[0mfunc\u001b[0m\u001b[0;34m)\u001b[0m\u001b[0;34m:\u001b[0m\u001b[0;34m\u001b[0m\u001b[0;34m\u001b[0m\u001b[0m\n\u001b[0;32m--> 429\u001b[0;31m         \u001b[0mkwargs\u001b[0m\u001b[0;34m[\u001b[0m\u001b[0;34m\"run_manager\"\u001b[0m\u001b[0;34m]\u001b[0m \u001b[0;34m=\u001b[0m \u001b[0mrun_manager\u001b[0m\u001b[0;34m\u001b[0m\u001b[0;34m\u001b[0m\u001b[0m\n\u001b[0m\u001b[1;32m    430\u001b[0m     \u001b[0;32mreturn\u001b[0m \u001b[0mfunc\u001b[0m\u001b[0;34m(\u001b[0m\u001b[0minput\u001b[0m\u001b[0;34m,\u001b[0m \u001b[0;34m**\u001b[0m\u001b[0mkwargs\u001b[0m\u001b[0;34m)\u001b[0m  \u001b[0;31m# type: ignore[call-arg]\u001b[0m\u001b[0;34m\u001b[0m\u001b[0;34m\u001b[0m\u001b[0m\n\u001b[1;32m    431\u001b[0m \u001b[0;34m\u001b[0m\u001b[0m\n",
            "\u001b[0;32m/usr/local/lib/python3.12/dist-packages/langchain_core/prompts/base.py\u001b[0m in \u001b[0;36m_format_prompt_with_error_handling\u001b[0;34m(self, inner_input)\u001b[0m\n\u001b[1;32m    187\u001b[0m         \u001b[0minner_input_\u001b[0m \u001b[0;34m=\u001b[0m \u001b[0mself\u001b[0m\u001b[0;34m.\u001b[0m\u001b[0m_validate_input\u001b[0m\u001b[0;34m(\u001b[0m\u001b[0minner_input\u001b[0m\u001b[0;34m)\u001b[0m\u001b[0;34m\u001b[0m\u001b[0;34m\u001b[0m\u001b[0m\n\u001b[1;32m    188\u001b[0m         \u001b[0;32mreturn\u001b[0m \u001b[0mself\u001b[0m\u001b[0;34m.\u001b[0m\u001b[0mformat_prompt\u001b[0m\u001b[0;34m(\u001b[0m\u001b[0;34m**\u001b[0m\u001b[0minner_input_\u001b[0m\u001b[0;34m)\u001b[0m\u001b[0;34m\u001b[0m\u001b[0;34m\u001b[0m\u001b[0m\n\u001b[0;32m--> 189\u001b[0;31m \u001b[0;34m\u001b[0m\u001b[0m\n\u001b[0m\u001b[1;32m    190\u001b[0m     async def _aformat_prompt_with_error_handling(\n\u001b[1;32m    191\u001b[0m         \u001b[0mself\u001b[0m\u001b[0;34m,\u001b[0m \u001b[0minner_input\u001b[0m\u001b[0;34m:\u001b[0m \u001b[0mdict\u001b[0m\u001b[0;34m\u001b[0m\u001b[0;34m\u001b[0m\u001b[0m\n",
            "\u001b[0;32m/usr/local/lib/python3.12/dist-packages/langchain_core/prompts/base.py\u001b[0m in \u001b[0;36m_validate_input\u001b[0;34m(self, inner_input)\u001b[0m\n\u001b[1;32m    181\u001b[0m             raise KeyError(\n\u001b[1;32m    182\u001b[0m                 \u001b[0mcreate_message\u001b[0m\u001b[0;34m(\u001b[0m\u001b[0mmessage\u001b[0m\u001b[0;34m=\u001b[0m\u001b[0mmsg\u001b[0m\u001b[0;34m,\u001b[0m \u001b[0merror_code\u001b[0m\u001b[0;34m=\u001b[0m\u001b[0mErrorCode\u001b[0m\u001b[0;34m.\u001b[0m\u001b[0mINVALID_PROMPT_INPUT\u001b[0m\u001b[0;34m)\u001b[0m\u001b[0;34m\u001b[0m\u001b[0;34m\u001b[0m\u001b[0m\n\u001b[0;32m--> 183\u001b[0;31m             )\n\u001b[0m\u001b[1;32m    184\u001b[0m         \u001b[0;32mreturn\u001b[0m \u001b[0minner_input\u001b[0m\u001b[0;34m\u001b[0m\u001b[0;34m\u001b[0m\u001b[0m\n\u001b[1;32m    185\u001b[0m \u001b[0;34m\u001b[0m\u001b[0m\n",
            "\u001b[0;31mKeyError\u001b[0m: \"Input to ChatPromptTemplate is missing variables {'pergunta'}.  Expected: ['pergunta'] Received: ['prompt']\\nNote: if you intended {pergunta} to be part of the string and not a variable, please escape it with double curly braces like: '{{pergunta}}'.\\nFor troubleshooting, visit: https://python.langchain.com/docs/troubleshooting/errors/INVALID_PROMPT_INPUT \""
          ]
        }
      ]
    }
  ]
}